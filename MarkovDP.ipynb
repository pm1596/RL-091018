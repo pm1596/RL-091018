{
  "nbformat": 4,
  "nbformat_minor": 0,
  "metadata": {
    "colab": {
      "name": "MarkovDP.ipynb",
      "version": "0.3.2",
      "provenance": []
    },
    "kernelspec": {
      "name": "python3",
      "display_name": "Python 3"
    }
  },
  "cells": [
    {
      "metadata": {
        "id": "Tq5lmBbBBDBo",
        "colab_type": "code",
        "colab": {}
      },
      "cell_type": "code",
      "source": [
        "import random\n",
        "from operator import add\n",
        "MIN_DELTA = 1e-4\n",
        "\n",
        "class GridMarkovDP(object):\n",
        "    def __init__(self, metadata):\n",
        "        self.width = metadata['width']\n",
        "        self.height = metadata['height']\n",
        "        self.initial_value = metadata['initial_value']\n",
        "        self.obstacles = metadata['obstacles']\n",
        "        self.living_cost = metadata['living_cost']\n",
        "\n",
        "        self.discount = metadata['discount']\n",
        "        self.transition_distribution = metadata['transition_distribution']\n",
        "        self.rewards = {tuple(terminal['state']) : terminal['reward'] for terminal in metadata['terminals']}\n",
        "        self.terminals = list(self.rewards.keys())\n",
        "\n",
        "        self._init_grid()\n",
        "\n",
        "        # enumerate state space\n",
        "        self.states = set()\n",
        "        for row in range(self.height):\n",
        "            for col in range(self.width):\n",
        "                if self.grid[row][col] is not None:\n",
        "                    self.states.add((row, col))\n",
        "        \n",
        "        # move one tile at a time\n",
        "        self.actions = [(1, 0), (0, 1), (-1, 0), (0, -1)]\n",
        "        self.num_actions = len(self.actions)\n",
        "\n",
        "        # initialize values and policy\n",
        "        self.policy = {}\n",
        "        self.values = {}\n",
        "        for state in self.states:\n",
        "            self.values[state] = self.initial_value\n",
        "            self.policy[state] = random.choice(self.actions)\n",
        "\n",
        "    def R(self, state):\n",
        "        if state in self.terminals:\n",
        "            return self.rewards[state]\n",
        "        else:\n",
        "            # living cost\n",
        "            return self.living_cost"
      ],
      "execution_count": 0,
      "outputs": []
    }
  ]
}