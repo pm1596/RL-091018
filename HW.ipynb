{
  "nbformat": 4,
  "nbformat_minor": 0,
  "metadata": {
    "colab": {
      "name": "HW.ipynb",
      "version": "0.3.2",
      "provenance": []
    },
    "kernelspec": {
      "name": "python3",
      "display_name": "Python 3"
    }
  },
  "cells": [
    {
      "metadata": {
        "id": "XUz2VoViQvAD",
        "colab_type": "code",
        "colab": {}
      },
      "cell_type": "code",
      "source": [
        "!pip install gym\n"
      ],
      "execution_count": 0,
      "outputs": []
    },
    {
      "metadata": {
        "id": "u2gt3tctRvLX",
        "colab_type": "code",
        "colab": {}
      },
      "cell_type": "code",
      "source": [
        "import numpy\n",
        "import gym\n",
        "import time\n",
        "\n",
        "def exe(env,episodeLength = 100,policy,render = False):\n",
        "  totalReward = 0\n",
        "  start = env.reset()\n",
        "  for t in range(episodeLength):\n",
        "    if render:\n",
        "      env.render()\n",
        "    action = policy[start]\n",
        "    start,reward,done,_ = env.step(action)\n",
        "    totalReward+=reward\n",
        "    if done:\n",
        "      break\n",
        "  return totalReward\n",
        "\n",
        "\n",
        "#policy evaluation\n",
        "\n",
        "def evaluate(policy,env,n_episodes = 100):\n",
        "  totalReward = 0.0\n",
        "  for _ in range(n_episodes):\n",
        "    totalReward += exe(env,policy)\n",
        "  return totalReward/n_episodes\n",
        "\n",
        "#initialize a random policy\n",
        "\n",
        "def random_policy():\n",
        "  return numpy.random.choice(4,size=((16)))\n",
        "\n",
        "if __name__ == \"__main__\":\n",
        "  env = gym.make(\"FrozenLake-v0\")\n",
        "  n_policies = 1000\n",
        "  startTime = time.time()\n",
        "  policy_set = [random_policy() for _ in range(n_policies)]\n",
        "  policy_score = [evaluate(env,p) for p in policy_set]\n",
        "  endTime = time.time()\n",
        "  print(\"Best score = %0.2f. Time taken = %4.4fseconds\"%(numpy.max(policy_score),endTime-startTime))\n",
        "  \n",
        "  \n",
        "#Output for the above script:\n",
        "#Best score = 0.64. Time taken = 13.4533 seconds\n",
        "  \n",
        "  \n",
        " \n",
        "\n",
        "  "
      ],
      "execution_count": 0,
      "outputs": []
    }
  ]
}
