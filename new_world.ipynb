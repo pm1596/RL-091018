{
  "nbformat": 4,
  "nbformat_minor": 0,
  "metadata": {
    "colab": {
      "name": "new_world.ipynb",
      "version": "0.3.2",
      "provenance": []
    },
    "kernelspec": {
      "name": "python3",
      "display_name": "Python 3"
    }
  },
  "cells": [
    {
      "metadata": {
        "id": "lGo6tYnIqMjR",
        "colab_type": "code",
        "colab": {
          "base_uri": "https://localhost:8080/",
          "height": 35
        },
        "outputId": "68c44442-1202-4946-aab4-7940b92b9bcd"
      },
      "cell_type": "code",
      "source": [
        "import sys\n",
        "import time\n",
        "import numpy as np\n",
        "if sys.version_info.major == 2:\n",
        "  import Tkinter as tk\n",
        "else:\n",
        "  import tkinter as tk\n",
        "  \n",
        "print(sys.version_info.major)"
      ],
      "execution_count": 5,
      "outputs": [
        {
          "output_type": "stream",
          "text": [
            "3\n"
          ],
          "name": "stdout"
        }
      ]
    },
    {
      "metadata": {
        "id": "B8M1DGQLvpov",
        "colab_type": "code",
        "colab": {
          "base_uri": "https://localhost:8080/",
          "height": 135
        },
        "outputId": "00d9780f-890e-400d-e1ca-71e7aed3d374"
      },
      "cell_type": "code",
      "source": [
        "class Visualise(tk.Tk, object):\n",
        "  def __init__(self,height,width,scale,hell,goal,enemy):\n",
        "    super(Visualise,self).__init__()\n",
        "    self.width = (width+1)*scale\n",
        "    self.height = (height+1)*scale\n",
        "    self.scale = scale\n",
        "    self.title('MAZE')\n",
        "    self.geometry('{0}x[1]'.format(self.width,self.height))\n",
        "    \n",
        "    self.hell = hell\n",
        "    self.goal = goal\n",
        "    self.enemy = enemy\n",
        "    \n",
        "    self.build_maze()\n",
        "    \n",
        "  def build_maze(self):\n",
        "    self.canvas = tk.canvas(self,bg = 'white', \n",
        "                           height = self.height*self.scale,\n",
        "                           width = self.width*self.scale)\n",
        "    for r in range(0,self.width,self.height):\n",
        "      x0,y0,x1,y1 = 0,r,self.width,r\n",
        "      self.canvas.create_line(x0,y0,x1,y1)\n",
        "      \n",
        "    for c in range(0,self.height,self.width):\n",
        "      x0,y0,x1,y1 = c,0,c,self.height\n",
        "      self.canvas.create_line(x0,y0,x1,y1)\n",
        "      \n",
        "    for h in self.hell:\n",
        "      self.canvas.create_rectangle(\n",
        "          h[0]*self.scale , h[1]*self.scale,\n",
        "          h[0]*self.scale + h[1]*self.scale,\n",
        "          fill ='black')\n",
        "      \n",
        "      \n",
        "    self.canvas.create_oval(\n",
        "        self.goal[0]*self.scale, self.goal[1]*self.scale,\n",
        "        fill='yellow')\n",
        "    \n",
        "    self.actor_ref = self.canvas_rectangle(\n",
        "        0,0,\n",
        "        self.scale,self.scale,\n",
        "        fill='green')\n",
        "    \n",
        "    self.enemy_ref = self.enemy = self.canvas.create_rectangle(\n",
        "        self.enemy[0]*self.scale, self.enemy[1]*self.scale,\n",
        "        self.enemy[0]*self.scale + self.scale, self.enemy[1]*self.scale + self.scale,\n",
        "        fill='red')\n",
        "    \n",
        "    self.canvas.pack()\n",
        "    \n",
        "  def update_canvas(self,actor,enemy):\n",
        "    time.sleep(0.2)\n",
        "    self.canvas.delete(self.actor_ref)\n",
        "    self.canvas.delete(self.enemy_ref)\n",
        "    self.actor_ref = self.canvas.create_rectangle(\n",
        "        actor[0]*self.scale, actor[1]*self.scale,\n",
        "        actor[0]*self.scale+self.scale, actor[1]*self.scale+self.scale,\n",
        "        fill='green')\n",
        "\t\tself.enemy_ref = self.canvas.create_rectangle(\n",
        "        enemy[0]*self.scale, enemy[1]*self.scale,\n",
        "        enemy[0]*self.scale+self.scale, enemy[1]*self.scale+self.scale,\n",
        "        fill='red')\n",
        "    self.update()\n",
        "    \n",
        "    "
      ],
      "execution_count": 12,
      "outputs": [
        {
          "output_type": "error",
          "ename": "TabError",
          "evalue": "ignored",
          "traceback": [
            "\u001b[0;36m  File \u001b[0;32m\"<ipython-input-12-41d6a3d4c372>\"\u001b[0;36m, line \u001b[0;32m59\u001b[0m\n\u001b[0;31m    self.enemy_ref = self.canvas.create_rectangle(\u001b[0m\n\u001b[0m                                                  ^\u001b[0m\n\u001b[0;31mTabError\u001b[0m\u001b[0;31m:\u001b[0m inconsistent use of tabs and spaces in indentation\n"
          ]
        }
      ]
    }
  ]
}